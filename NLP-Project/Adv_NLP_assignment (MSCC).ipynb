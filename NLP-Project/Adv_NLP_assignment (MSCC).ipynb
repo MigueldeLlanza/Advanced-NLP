{
  "nbformat": 4,
  "nbformat_minor": 0,
  "metadata": {
    "colab": {
      "name": "1st Assignment.ipynb",
      "provenance": [],
      "collapsed_sections": []
    },
    "kernelspec": {
      "name": "python3",
      "display_name": "Python 3"
    },
    "language_info": {
      "name": "python"
    }
  },
  "cells": [
    {
      "cell_type": "code",
      "metadata": {
        "colab": {
          "base_uri": "https://localhost:8080/"
        },
        "id": "e1FGw1AG1otk",
        "outputId": "029989f4-6719-4762-8571-f5c50f480e5d"
      },
      "source": [
        "from google.colab import drive\n",
        "import sys\n",
        "drive.mount('/content/drive/', force_remount=True)"
      ],
      "execution_count": null,
      "outputs": [
        {
          "output_type": "stream",
          "text": [
            "Mounted at /content/drive/\n"
          ],
          "name": "stdout"
        }
      ]
    },
    {
      "cell_type": "code",
      "metadata": {
        "colab": {
          "base_uri": "https://localhost:8080/"
        },
        "id": "h8rgbV4u1cfO",
        "outputId": "710dfa6b-ed11-438e-8c82-38ac44ad44ba"
      },
      "source": [
        "import os,random,math\n",
        "import collections\n",
        "import nltk\n",
        "from nltk import word_tokenize as tokenize\n",
        "from nltk import sent_tokenize\n",
        "import numpy as np\n",
        "import operator\n",
        "import pandas as pd, csv\n",
        "import matplotlib.pyplot as plt\n",
        "\n",
        "nltk.download('punkt')"
      ],
      "execution_count": null,
      "outputs": [
        {
          "output_type": "stream",
          "text": [
            "[nltk_data] Downloading package punkt to /root/nltk_data...\n",
            "[nltk_data]   Package punkt is already up-to-date!\n"
          ],
          "name": "stdout"
        },
        {
          "output_type": "execute_result",
          "data": {
            "text/plain": [
              "True"
            ]
          },
          "metadata": {
            "tags": []
          },
          "execution_count": 4
        }
      ]
    },
    {
      "cell_type": "markdown",
      "metadata": {
        "id": "l-LfH2KnLBCV"
      },
      "source": [
        "# Microsoft Sentence Completion Challenge"
      ]
    },
    {
      "cell_type": "markdown",
      "metadata": {
        "id": "AmJoIx2qQuv6"
      },
      "source": [
        "File and directory paths required"
      ]
    },
    {
      "cell_type": "code",
      "metadata": {
        "id": "Ubs4IH6o3GYe"
      },
      "source": [
        "PARENT_DIR = \"/content/drive/My Drive/Sussex AI/Spring Semester/Advanced NLP/Week 2/sentence-completion/\"\n",
        "TRAINING_DIR = \"/content/drive/My Drive/Sussex AI/Spring Semester/Advanced NLP/Week 2/sentence-completion/Holmes_Training_Data\"\n",
        "\n",
        "questions_file = \"/content/drive/My Drive/Sussex AI/Spring Semester/Advanced NLP/Week 2/sentence-completion/testing_data.csv\"\n",
        "answers_file = \"/content/drive/My Drive/Sussex AI/Spring Semester/Advanced NLP/Week 2/sentence-completion/test_answer.csv\"\n",
        "\n",
        "results_directory = \"/content/drive/My Drive/Sussex AI/Spring Semester/Advanced NLP/Assignment\""
      ],
      "execution_count": null,
      "outputs": []
    },
    {
      "cell_type": "markdown",
      "metadata": {
        "id": "NGwmWaGz-pnj"
      },
      "source": [
        "# N-gram models: unigram, bigram, and trigram\n"
      ]
    },
    {
      "cell_type": "code",
      "metadata": {
        "id": "1wPJYCRd-naS"
      },
      "source": [
        "def get_training_testing(training_dir,split=0.5):\n",
        "  \"\"\"\n",
        "  split between train and test data given some files\n",
        "  \"\"\"\n",
        "\n",
        "  filenames=os.listdir(training_dir)\n",
        "  n=len(filenames)\n",
        "  print(\"There are {} files in the training directory: {}\".format(n,training_dir))\n",
        "  random.seed(53)  #if you want the same random split every time\n",
        "  random.shuffle(filenames)\n",
        "  index=int(n*split)\n",
        "  trainingfiles=filenames[:index]\n",
        "  heldoutfiles=filenames[index:]\n",
        "  return trainingfiles,heldoutfiles\n",
        "\n",
        "\n",
        "class language_model():\n",
        "    \"\"\"\n",
        "    Language model to train a unigram, a bigram, and a trigram model using \n",
        "    Kneser-ney smothing, absolute discount, and an out of vocabulary threshold\n",
        "    to only include words that appeared more than 'n' times in the corpus\n",
        "    \"\"\"\n",
        "    \n",
        "  def __init__(self,known=2,discount=0.75,trainingdir=TRAINING_DIR,files=[]):\n",
        "    self.training_dir = trainingdir\n",
        "    self.files = files\n",
        "    self.discount = discount\n",
        "    self.known = known\n",
        "    self.train()\n",
        "      \n",
        "  def train(self):\n",
        "    \"\"\"\n",
        "    Train each ngram model\n",
        "    \"\"\"    \n",
        "    self.unigram = {}\n",
        "    self.bigram = {}\n",
        "    self.trigram = {}\n",
        "    \n",
        "    self.count_token = {}\n",
        "\n",
        "    self._processfiles()\n",
        "    self._make_unknowns()\n",
        "    self._kneser_ney()\n",
        "    \n",
        "    self._convert_to_probs()\n",
        "    \n",
        "  \n",
        "  def _processline(self,line):\n",
        "    \"\"\"\n",
        "    Get ngramms for each line of the document\n",
        "    \"\"\"\n",
        "    tokens = [\"__START\"] + tokenize(line) + [\"__END\"]\n",
        "    previous = \"__END\"\n",
        "    pre_trigram = [\"__END\", \"__END\"]\n",
        "    for token in tokens:\n",
        "      # Get unigrams\n",
        "      self.unigram[token] = self.unigram.get(token,0) + 1\n",
        "\n",
        "      # Count tokens\n",
        "      self.count_token[token] = self.count_token.get(token,0) + 1\n",
        "      \n",
        "      # Get bigrams\n",
        "      current_big = self.bigram.get(previous,{})\n",
        "      current_big[token] = current_big.get(token,0) + 1\n",
        "      self.bigram[previous] = current_big\n",
        "\n",
        "      # Get trigrams\n",
        "      pre_trigram[1], pre_trigram[0] = pre_trigram[0], pre_trigram[1]\n",
        "      pre_trigram[1] = previous\n",
        "\n",
        "      current_tri = self.trigram.get(tuple(pre_trigram), {})\n",
        "      current_tri[token] = current_tri.get(token, 0) + 1\n",
        "      self.trigram[tuple(pre_trigram)] = current_tri\n",
        "\n",
        "      previous = token\n",
        "  \n",
        "  def _processfiles(self):\n",
        "    \"\"\"\n",
        "    Process files\n",
        "    \"\"\"\n",
        "    for afile in self.files:\n",
        "        try:\n",
        "            with open(os.path.join(self.training_dir,afile)) as instream:\n",
        "                for line in instream:\n",
        "                    line = line.rstrip()\n",
        "                    if len(line) > 0:\n",
        "                        self._processline(line)\n",
        "        except UnicodeDecodeError:\n",
        "            print(\"UnicodeDecodeError processing {}: ignoring rest of file\".format(afile))\n",
        "  \n",
        "          \n",
        "  def _convert_to_probs(self):\n",
        "    \"\"\"\n",
        "    Conver ngram counts to probabilities\n",
        "    \"\"\"\n",
        "      \n",
        "    self.unigram = {k:v/sum(self.unigram.values()) for (k,v) in self.unigram.items()}\n",
        "    self.bigram = {key:{k:v/sum(adict.values()) for (k,v) in adict.items()} for (key,adict) in self.bigram.items()}\n",
        "    self.trigram = {key:{k:v/sum(adict.values()) for (k,v) in adict.items()} for (key,adict) in self.trigram.items()}\n",
        "    self.kn = {k:v/sum(self.kn.values()) for (k,v) in self.kn.items()}\n",
        "    self.kn_tri = {k:v/sum(self.kn_tri.values()) for (k,v) in self.kn_tri.items()}\n",
        "    \n",
        "    \n",
        "  def get_prob(self,token,context=\"\",methodparams={}):\n",
        "    \"\"\"\n",
        "    Get the probability of a token given its context, an ngram method and \n",
        "    a smoothing technique \n",
        "    \"\"\"\n",
        "    if methodparams.get(\"method\",\"unigram\") == \"unigram\":\n",
        "      return self.unigram.get(token,self.unigram.get(\"__UNK\",0))\n",
        "    \n",
        "    elif methodparams.get(\"method\",\"bigram\") == \"bigram\": \n",
        "      if methodparams.get(\"smoothing\",\"kneser-ney\") == \"kneser-ney\":\n",
        "        unidist = self.kn\n",
        "      else:\n",
        "        unidist = self.unigram\n",
        "\n",
        "      bigram = self.bigram.get(context[-1],self.bigram.get(\"__UNK\",{}))\n",
        "      big_p = bigram.get(token,bigram.get(\"__UNK\",0))\n",
        "      lmbda = bigram[\"__DISCOUNT\"]\n",
        "      uni_p = unidist.get(token,unidist.get(\"__UNK\",0))\n",
        "      p = big_p + lmbda * uni_p            \n",
        "      return p\n",
        "\n",
        "    elif methodparams.get(\"method\",\"trigram\") == \"trigram\":\n",
        "      if methodparams.get(\"smoothing\",\"kneser-ney\") == \"kneser-ney\":\n",
        "        unidist = self.kn_tri\n",
        "        unidist_bi = self.kn\n",
        "      else:\n",
        "        unidist_bi = self.unigram\n",
        "\n",
        "      if len(context) < 2:\n",
        "        context = [\"__END\", context[0]]\n",
        "      trigram = self.trigram.get(tuple(context[-2:]),self.trigram.get(\"__UNK\",{}))\n",
        "      trig_p = trigram.get(token,trigram.get(\"__UNK\",0))\n",
        "      lmbda_tri = trigram[\"__DISCOUNT\"]\n",
        "\n",
        "      bigram = self.bigram.get(context[-1],self.bigram.get(\"__UNK\",{}))\n",
        "      big_p = bigram.get(token,bigram.get(\"__UNK\",0))\n",
        "      lmbda_bi = bigram[\"__DISCOUNT\"]\n",
        "      uni_p = unidist_bi.get(token,unidist_bi.get(\"__UNK\",0))\n",
        "\n",
        "      p = trig_p + (lmbda_tri * big_p) + (lmbda_bi * uni_p)      \n",
        "      return p\n",
        "  \n",
        "  def compute_prob_line(self,line,methodparams={}):\n",
        "    \"\"\"\n",
        "    Compute the probability of each line of the document\n",
        "    \"\"\"\n",
        "    # Add _start to the beginning of a line of text\n",
        "    # Compute the probability of the line according to the desired model\n",
        "    # and returns probability together with number of tokens\n",
        "    \n",
        "    tokens = [\"__START\"] + tokenize(line) + [\"__END\"]\n",
        "    acc = 0\n",
        "    for i,token in enumerate(tokens[1:]):\n",
        "        acc += math.log(self.get_prob(token,tokens[:i+1],methodparams))\n",
        "    return acc,len(tokens[1:])\n",
        "  \n",
        "  def compute_probability(self,filenames=[],methodparams={}):\n",
        "    # computes the probability (and length) of a corpus contained in filenames\n",
        "    if filenames == []:\n",
        "        filenames = self.files\n",
        "    \n",
        "    total_p = 0\n",
        "    total_N = 0\n",
        "    for i,afile in enumerate(filenames):\n",
        "        try:\n",
        "            with open(os.path.join(self.training_dir,afile)) as instream:\n",
        "                for line in instream:\n",
        "                    line = line.rstrip()\n",
        "                    if len(line) > 0:\n",
        "                        p,N = self.compute_prob_line(line,methodparams=methodparams)\n",
        "                        total_p += p\n",
        "                        total_N += N\n",
        "        except UnicodeDecodeError:\n",
        "            print(\"UnicodeDecodeError processing file {}: ignoring rest of file\".format(afile))\n",
        "    return total_p,total_N\n",
        "  \n",
        "  def compute_perplexity(self,filenames=[],methodparams={\"method\":\"bigram\",\"smoothing\":\"kneser-ney\"}):\n",
        "    \"\"\"\n",
        "    Compute perplexity of given data\n",
        "    \"\"\"\n",
        "    # Lower perplexity means that the model better explains the data\n",
        "    \n",
        "    p, N = self.compute_probability(filenames=filenames,methodparams=methodparams)\n",
        "    #print(p,N)\n",
        "    pp = math.exp(-p/N)\n",
        "    return pp  \n",
        "  \n",
        "  def _make_unknowns(self):\n",
        "    \"\"\"\n",
        "    Make unknown words given some threshold\n",
        "    \"\"\"\n",
        "    unknown = 0\n",
        "    self.number_unknowns = 0\n",
        "    for (k,v) in list(self.unigram.items()):\n",
        "      if v < self.known:\n",
        "        del self.unigram[k]\n",
        "        self.unigram[\"__UNK\"] = self.unigram.get(\"__UNK\",0) + v\n",
        "        self.number_unknowns += 1\n",
        "\n",
        "    for (k,adict) in list(self.bigram.items()):\n",
        "      for (kk,v) in list(adict.items()):\n",
        "        isknown = self.unigram.get(kk,0)\n",
        "        if isknown == 0 and not kk == \"__DISCOUNT\":\n",
        "          adict[\"__UNK\"] = adict.get(\"__UNK\",0) + v\n",
        "          del adict[kk]\n",
        "      isknown = self.unigram.get(k,0)\n",
        "      if isknown == 0:\n",
        "        del self.bigram[k]\n",
        "        current = self.bigram.get(\"__UNK\",{})\n",
        "        current.update(adict)\n",
        "        self.bigram[\"__UNK\"] = current\n",
        "      else:\n",
        "        self.bigram[k] = adict\n",
        "\n",
        "    for (k,adict) in list(self.trigram.items()):\n",
        "      for (kk,v) in list(adict.items()):\n",
        "        isknown = self.unigram.get(kk,0)\n",
        "        if isknown == 0 and not kk == \"__DISCOUNT\":\n",
        "          adict[\"__UNK\"] = adict.get(\"__UNK\",0) + v\n",
        "          del adict[kk]\n",
        "      prev_1, prev_2 = k\n",
        "      isknown_1, isknown_2 = self.unigram.get(prev_1,0), self.unigram.get(prev_2,0)\n",
        "      if isknown_1 == 0 or isknown_2 == 0:\n",
        "        del self.trigram[k]\n",
        "        current = self.trigram.get(\"__UNK\",{})\n",
        "        current.update(adict)\n",
        "        self.trigram[\"__UNK\"] = current\n",
        "      else:\n",
        "        self.trigram[k] = adict\n",
        "        \n",
        "              \n",
        "  def _kneser_ney(self):\n",
        "    \"\"\"\n",
        "    Apply absolute discount and kneser-Ney smoothing\n",
        "    \"\"\"\n",
        "    # Discount each bigram count by a small fixed amount\n",
        "    self.bigram = {k:{kk:value-self.discount for (kk,value) in adict.items()} for (k,adict) in self.bigram.items()}\n",
        "\n",
        "    # Discount each trigram count by a small fixed amount\n",
        "    self.trigram = {k:{kk:value-self.discount for (kk,value) in adict.items()} for (k,adict) in self.trigram.items()}\n",
        "    \n",
        "    # For each word, store the total amount of the discount so that the total is the same \n",
        "    # i.e., so we are reserving this as probability mass\n",
        "    for k in self.bigram.keys():\n",
        "        lamb = len(self.bigram[k])\n",
        "        self.bigram[k][\"__DISCOUNT\"] = lamb * self.discount\n",
        "              \n",
        "    for k in self.trigram.keys():\n",
        "        lamb = len(self.trigram[k])\n",
        "        self.trigram[k][\"__DISCOUNT\"] = lamb * self.discount\n",
        "\n",
        "    # Work out kneser-ney unigram probabilities\n",
        "    # Count the number of contexts each word has been seen in\n",
        "    self.kn = {}\n",
        "    for (k,adict) in self.bigram.items():\n",
        "      for kk in adict.keys():\n",
        "        self.kn[kk] = self.kn.get(kk,0) + 1\n",
        "\n",
        "    self.kn_tri = {}\n",
        "    for (k,adict) in self.trigram.items():\n",
        "      for kk in adict.keys():\n",
        "        self.kn_tri[kk] = self.kn_tri.get(kk,0) + 1"
      ],
      "execution_count": null,
      "outputs": []
    },
    {
      "cell_type": "code",
      "metadata": {
        "id": "c1VxPeEl6_WB"
      },
      "source": [
        "class question:\n",
        "    \n",
        "  def __init__(self,aline):\n",
        "    self.fields=aline\n",
        "  \n",
        "  def get_field(self,field):\n",
        "    return self.fields[question.colnames[field]]\n",
        "  \n",
        "  def add_answer(self,fields):\n",
        "    self.answer=fields[1]\n",
        "\n",
        "  def get_tokens(self):\n",
        "    return [\"__START\"]+tokenize(self.fields[question.colnames[\"question\"]])+[\"__END\"]\n",
        "\n",
        "  def get_left_context(self,window=1,target=\"_____\"):\n",
        "    found = -1\n",
        "    sent_tokens = self.get_tokens()\n",
        "    for i,token in enumerate(sent_tokens):\n",
        "        if token == target:\n",
        "            found = i\n",
        "            break  \n",
        "        \n",
        "    if found >- 1:\n",
        "        return sent_tokens[i-window:i]\n",
        "    else:\n",
        "        return []\n",
        "\n",
        "  def get_right_context(self,window=1,target=\"_____\"):\n",
        "    found = -1\n",
        "    sent_tokens = self.get_tokens()\n",
        "    for i,token in enumerate(sent_tokens):\n",
        "      if token == target:\n",
        "        found = i\n",
        "        break  \n",
        "      \n",
        "    if found >- 1:\n",
        "      return sent_tokens[found + 1:found + window + 1]\n",
        "        \n",
        "    else:\n",
        "      return []\n",
        "\n",
        "  # Choose model\n",
        "  def choose(self,lm,method=\"bigram\",smoothing=\"Kneser-ney\", choices=[]):\n",
        "    \"\"\"\n",
        "    Choose specific ngram to get the predicted answer for a given sentence \n",
        "    \"\"\"\n",
        "    if choices == []:\n",
        "      choices = [\"a\",\"b\",\"c\",\"d\",\"e\"]\n",
        "\n",
        "    if method == \"bigram\":\n",
        "      rc = self.get_right_context(window=1)\n",
        "      lc = self.get_left_context(window=1)\n",
        "      probs = [lm.get_prob(rc[0],[self.get_field(ch+\")\")],methodparams={\"method\":method.split(\"_\")[0], \"smoothing\":smoothing}) * lm.get_prob(self.get_field(ch+\")\"),lc,methodparams={\"method\":method.split(\"_\")[0], \"smoothing\":smoothing}) for ch in choices]\n",
        "\n",
        "    elif method == \"trigram\":\n",
        "      rc = self.get_right_context(window=2)\n",
        "      lc = self.get_left_context(window=2)\n",
        "      probs = [lm.get_prob(self.get_field(ch+\")\"), lc, methodparams={\"method\":method.split(\"_\")[0], \"smoothing\":smoothing})\n",
        "              * lm.get_prob(rc[0], [lc[-1]] + [self.get_field(ch+\")\")],methodparams={\"method\":method.split(\"_\")[0], \"smoothing\":smoothing})\n",
        "              * lm.get_prob(rc[1], [self.get_field(ch+\")\")] + [rc[0]],methodparams={\"method\":method.split(\"_\")[0], \"smoothing\":smoothing}) for ch in choices]\n",
        "    \n",
        "    else:\n",
        "      context = self.get_left_context(window=1)\n",
        "      probs = [lm.get_prob(self.get_field(ch+\")\"),context,methodparams={\"method\":method.split(\"_\")[0]}) for ch in choices]\n",
        "    \n",
        "    maxprob = max(probs)\n",
        "    bestchoices = [ch for ch,prob in zip(choices,probs) if prob == maxprob]\n",
        "\n",
        "    return np.random.choice(bestchoices), probs\n",
        "    \n",
        "  def predict(self,lm,method=\"bigram\", smoothing=\"kneser-ney\"):\n",
        "    \"\"\"\n",
        "    Predict the answer given a language model, a specific ngram and\n",
        "    Kneser-Ney smoothing\n",
        "    \"\"\"\n",
        "    return self.choose(lm,method=method,smoothing=smoothing,choices=[])\n",
        "\n",
        "  def predict_and_score(self,lm,method=\"bigram\", smoothing=\"kneser-ney\"):\n",
        "    \"\"\"\n",
        "    returns 1 if the prediction is equal to the answer and 0 otherwise. Also,\n",
        "    it returns the prediction (letter) and the probability assigned to each\n",
        "    option\n",
        "    \"\"\"\n",
        "    prediction, probs = self.predict(lm,method=method,smoothing=smoothing)\n",
        "\n",
        "    if prediction == self.answer:\n",
        "      return 1, prediction, probs\n",
        "    else:\n",
        "      return 0, prediction, probs\n",
        "\n",
        "class scc_reader:\n",
        "    \n",
        "  def __init__(self,qs,ans):\n",
        "    self.qs=qs\n",
        "    self.ans=ans\n",
        "    self.read_files()\n",
        "    \n",
        "  def read_files(self):\n",
        "      \n",
        "    #read in the question file\n",
        "    with open(self.qs) as instream:\n",
        "      csvreader=csv.reader(instream)\n",
        "      qlines=list(csvreader)\n",
        "    \n",
        "    #store the column names as a reverse index so they can be used to reference parts of the question\n",
        "    question.colnames={item:i for i,item in enumerate(qlines[0])}\n",
        "    \n",
        "    #create a question instance for each line of the file (other than heading line)\n",
        "    self.questions=[question(qline) for qline in qlines[1:]]\n",
        "    \n",
        "    #read in the answer file\n",
        "    with open(self.ans) as instream:\n",
        "      csvreader=csv.reader(instream)\n",
        "      alines=list(csvreader)\n",
        "        \n",
        "    #add answers to questions so predictions can be checked    \n",
        "    for q,aline in zip(self.questions,alines[1:]):\n",
        "      q.add_answer(aline)\n",
        "      \n",
        "  def get_field(self,field):\n",
        "    return [q.get_field(field) for q in self.questions] \n",
        "  \n",
        "  def predict(self,method=\"bigram\"):\n",
        "    return [q.predict(method=method) for q in self.questions]\n",
        "  \n",
        "  def predict_and_score(self,lm,method=\"bigram\",smoothing=\"kneser-ney\"):\n",
        "    \"\"\"\n",
        "    Return the accuracy of the ngram, along with all its predictions and the \n",
        "    probability distribution of the options of each question\n",
        "    \"\"\"\n",
        "    predictions = []\n",
        "    scores = []\n",
        "    total_probs = []\n",
        "    for q in self.questions:\n",
        "      score, pred, probs = q.predict_and_score(lm,method=method, smoothing=smoothing)\n",
        "      scores.append(score)\n",
        "      predictions.append(pred)\n",
        "      total_probs.append(probs)\n",
        "\n",
        "    return sum(scores)/len(scores), predictions, total_probs\n",
        "  "
      ],
      "execution_count": null,
      "outputs": []
    },
    {
      "cell_type": "markdown",
      "metadata": {
        "id": "ZVE9wD42RO52"
      },
      "source": [
        "Tune Ngram hyperparameters: OOV threshold, abosule discount, and smoothing technique.  "
      ]
    },
    {
      "cell_type": "code",
      "metadata": {
        "colab": {
          "base_uri": "https://localhost:8080/"
        },
        "id": "mKFBZr02HCU2",
        "outputId": "3b57d46a-6b86-4a0c-ff53-af2a1b136798"
      },
      "source": [
        "# Tuning Hyperparameters\n",
        "fls = os.listdir(TRAINING_DIR)\n",
        "number_files = np.linspace(10, 100, 3).astype(int)\n",
        "known = [2, 3, 4]\n",
        "discount = 0.75\n",
        "smoothing = 'kneser-ney'\n",
        "MAX_FILES = 2\n",
        "results = []\n",
        "predictions = []\n",
        "total_probs = []\n",
        "iter = 0\n",
        "for n in number_files:\n",
        "  for k in known:\n",
        "    print('Processing {} documents...'.format(n))\n",
        "    mylm = language_model(known=k, discount=discount, files=fls[:n])\n",
        "    SCC = scc_reader(questions_file, answers_file)\n",
        "    \n",
        "    unigram_accuracy, unigram_predictions, unigram_probs = SCC.predict_and_score(mylm,method=\"unigram\",smoothing=smoothing)\n",
        "    bigram_accuracy, bigram_predictions, bigram_probs = SCC.predict_and_score(mylm,method=\"bigram\",smoothing=smoothing)\n",
        "    trigram_accuracy, trigram_predictions, trigram_probs = SCC.predict_and_score(mylm,method=\"trigram\",smoothing=smoothing)\n",
        "    \n",
        "    results.append((n, k, unigram_accuracy, bigram_accuracy, trigram_accuracy))\n",
        "    predictions.append((unigram_predictions, bigram_predictions, trigram_predictions))\n",
        "    total_probs.append((unigram_probs, bigram_probs, trigram_probs))\n",
        "\n",
        "    iter += 1"
      ],
      "execution_count": null,
      "outputs": [
        {
          "output_type": "stream",
          "text": [
            "Processing 10 documents...\n",
            "Processing 10 documents...\n",
            "Processing 10 documents...\n",
            "Processing 55 documents...\n",
            "UnicodeDecodeError processing ACHOE10.TXT: ignoring rest of file\n",
            "Processing 55 documents...\n",
            "UnicodeDecodeError processing ACHOE10.TXT: ignoring rest of file\n",
            "Processing 55 documents...\n",
            "UnicodeDecodeError processing ACHOE10.TXT: ignoring rest of file\n",
            "Processing 100 documents...\n",
            "UnicodeDecodeError processing ACHOE10.TXT: ignoring rest of file\n",
            "Processing 100 documents...\n",
            "UnicodeDecodeError processing ACHOE10.TXT: ignoring rest of file\n",
            "Processing 100 documents...\n",
            "UnicodeDecodeError processing ACHOE10.TXT: ignoring rest of file\n"
          ],
          "name": "stdout"
        }
      ]
    },
    {
      "cell_type": "code",
      "metadata": {
        "colab": {
          "base_uri": "https://localhost:8080/",
          "height": 314
        },
        "id": "82oXUmsgMR_T",
        "outputId": "c09f1c7e-001e-4fba-a5e7-777fcc2f4f37"
      },
      "source": [
        "cols = ['number of files', 'OOV threshold', 'unigram accuracy', 'bigram accuracy', 'trigram accuracy']\n",
        "values = results\n",
        "df = pd.DataFrame(values, columns=cols)\n",
        "display(df) "
      ],
      "execution_count": null,
      "outputs": [
        {
          "output_type": "display_data",
          "data": {
            "text/html": [
              "<div>\n",
              "<style scoped>\n",
              "    .dataframe tbody tr th:only-of-type {\n",
              "        vertical-align: middle;\n",
              "    }\n",
              "\n",
              "    .dataframe tbody tr th {\n",
              "        vertical-align: top;\n",
              "    }\n",
              "\n",
              "    .dataframe thead th {\n",
              "        text-align: right;\n",
              "    }\n",
              "</style>\n",
              "<table border=\"1\" class=\"dataframe\">\n",
              "  <thead>\n",
              "    <tr style=\"text-align: right;\">\n",
              "      <th></th>\n",
              "      <th>number of files</th>\n",
              "      <th>OOV threshold</th>\n",
              "      <th>unigram accuracy</th>\n",
              "      <th>bigram accuracy</th>\n",
              "      <th>trigram accuracy</th>\n",
              "    </tr>\n",
              "  </thead>\n",
              "  <tbody>\n",
              "    <tr>\n",
              "      <th>0</th>\n",
              "      <td>10</td>\n",
              "      <td>2</td>\n",
              "      <td>0.225962</td>\n",
              "      <td>0.206731</td>\n",
              "      <td>0.213462</td>\n",
              "    </tr>\n",
              "    <tr>\n",
              "      <th>1</th>\n",
              "      <td>10</td>\n",
              "      <td>3</td>\n",
              "      <td>0.195192</td>\n",
              "      <td>0.190385</td>\n",
              "      <td>0.202885</td>\n",
              "    </tr>\n",
              "    <tr>\n",
              "      <th>2</th>\n",
              "      <td>10</td>\n",
              "      <td>4</td>\n",
              "      <td>0.189423</td>\n",
              "      <td>0.179808</td>\n",
              "      <td>0.211538</td>\n",
              "    </tr>\n",
              "    <tr>\n",
              "      <th>3</th>\n",
              "      <td>55</td>\n",
              "      <td>2</td>\n",
              "      <td>0.237500</td>\n",
              "      <td>0.223077</td>\n",
              "      <td>0.257692</td>\n",
              "    </tr>\n",
              "    <tr>\n",
              "      <th>4</th>\n",
              "      <td>55</td>\n",
              "      <td>3</td>\n",
              "      <td>0.240385</td>\n",
              "      <td>0.215385</td>\n",
              "      <td>0.242308</td>\n",
              "    </tr>\n",
              "    <tr>\n",
              "      <th>5</th>\n",
              "      <td>55</td>\n",
              "      <td>4</td>\n",
              "      <td>0.237500</td>\n",
              "      <td>0.213462</td>\n",
              "      <td>0.239423</td>\n",
              "    </tr>\n",
              "    <tr>\n",
              "      <th>6</th>\n",
              "      <td>100</td>\n",
              "      <td>2</td>\n",
              "      <td>0.240385</td>\n",
              "      <td>0.208654</td>\n",
              "      <td>0.265385</td>\n",
              "    </tr>\n",
              "    <tr>\n",
              "      <th>7</th>\n",
              "      <td>100</td>\n",
              "      <td>3</td>\n",
              "      <td>0.245192</td>\n",
              "      <td>0.210577</td>\n",
              "      <td>0.259615</td>\n",
              "    </tr>\n",
              "    <tr>\n",
              "      <th>8</th>\n",
              "      <td>100</td>\n",
              "      <td>4</td>\n",
              "      <td>0.244231</td>\n",
              "      <td>0.208654</td>\n",
              "      <td>0.240385</td>\n",
              "    </tr>\n",
              "  </tbody>\n",
              "</table>\n",
              "</div>"
            ],
            "text/plain": [
              "   number of files  OOV threshold  ...  bigram accuracy  trigram accuracy\n",
              "0               10              2  ...         0.206731          0.213462\n",
              "1               10              3  ...         0.190385          0.202885\n",
              "2               10              4  ...         0.179808          0.211538\n",
              "3               55              2  ...         0.223077          0.257692\n",
              "4               55              3  ...         0.215385          0.242308\n",
              "5               55              4  ...         0.213462          0.239423\n",
              "6              100              2  ...         0.208654          0.265385\n",
              "7              100              3  ...         0.210577          0.259615\n",
              "8              100              4  ...         0.208654          0.240385\n",
              "\n",
              "[9 rows x 5 columns]"
            ]
          },
          "metadata": {
            "tags": []
          }
        }
      ]
    },
    {
      "cell_type": "markdown",
      "metadata": {
        "id": "cEuypXLHRe8E"
      },
      "source": [
        "Get accuracies for the Ngram models with the tuned hyperparameters and save the results in a CSV file"
      ]
    },
    {
      "cell_type": "code",
      "metadata": {
        "colab": {
          "base_uri": "https://localhost:8080/"
        },
        "id": "4KBfvJoxReTO",
        "outputId": "7a337177-e6f0-49fe-8aae-c9c36a98271d"
      },
      "source": [
        "known = 2\n",
        "discount = 0.75\n",
        "smoothing = 'kneser-ney'\n",
        "\n",
        "mylm = language_model(known=known, discount=discount, files=fls)\n",
        "SCC = scc_reader(questions_file, answers_file)\n",
        "\n",
        "unigram_accuracy, unigram_predictions, unigram_probs = SCC.predict_and_score(mylm,method=\"unigram\",smoothing=smoothing)\n",
        "bigram_accuracy, bigram_predictions, bigram_probs = SCC.predict_and_score(mylm,method=\"bigram\",smoothing=smoothing)\n",
        "trigram_accuracy, trigram_predictions, trigram_probs = SCC.predict_and_score(mylm,method=\"trigram\",smoothing=smoothing)\n",
        "\n",
        "# Save results in a csv file\n",
        "with open(os.path.join(results_directory, 'SCC_results.csv'), 'w') as out:\n",
        "  writer = csv.writer(out, delimiter=',')\n",
        "  writer.writerow(['id', 'answer unigiram', 'probs unigram', 'answer bigram', 'probs bigram', 'answer trigram', 'probs trigram'])\n",
        "  for i in range(len(unigram_predictions)):\n",
        "    writer.writerow([str(i+1), unigram_predictions[i], unigram_probs[i], bigram_predictions[i], \n",
        "                      bigram_probs[i], trigram_predictions[i], trigram_probs[i]])"
      ],
      "execution_count": null,
      "outputs": [
        {
          "output_type": "stream",
          "text": [
            "UnicodeDecodeError processing ACHOE10.TXT: ignoring rest of file\n",
            "UnicodeDecodeError processing DTROY10.TXT: ignoring rest of file\n",
            "UnicodeDecodeError processing KRSON10.TXT: ignoring rest of file\n",
            "UnicodeDecodeError processing HFDTR10.TXT: ignoring rest of file\n",
            "UnicodeDecodeError processing HHOHG10.TXT: ignoring rest of file\n",
            "UnicodeDecodeError processing GHROS10.TXT: ignoring rest of file\n",
            "UnicodeDecodeError processing LLIFE10.TXT: ignoring rest of file\n",
            "UnicodeDecodeError processing MFRND10.TXT: ignoring rest of file\n",
            "UnicodeDecodeError processing MOHIC10.TXT: ignoring rest of file\n",
            "UnicodeDecodeError processing PHIL410.TXT: ignoring rest of file\n",
            "UnicodeDecodeError processing TNGLW10.TXT: ignoring rest of file\n",
            "UnicodeDecodeError processing TBTAS10.TXT: ignoring rest of file\n",
            "UnicodeDecodeError processing WTSLW10.TXT: ignoring rest of file\n"
          ],
          "name": "stdout"
        }
      ]
    },
    {
      "cell_type": "markdown",
      "metadata": {
        "id": "kIc-SX1mEx3l"
      },
      "source": [
        "# word2vec model"
      ]
    },
    {
      "cell_type": "code",
      "metadata": {
        "id": "7xnE-w08i-s5"
      },
      "source": [
        "import argparse\n",
        "import time\n",
        "import csv\n",
        "import ast\n",
        "import re\n",
        "import string\n",
        "from sklearn.preprocessing import StandardScaler\n",
        "from sklearn.preprocessing import MinMaxScaler, normalize\n",
        "from scipy import spatial\n",
        "import numpy as np\n",
        "from gensim.models import Word2Vec, KeyedVectors"
      ],
      "execution_count": null,
      "outputs": []
    },
    {
      "cell_type": "markdown",
      "metadata": {
        "id": "D1v1yaYeodjb"
      },
      "source": [
        "Load Google News and Holmes models"
      ]
    },
    {
      "cell_type": "code",
      "metadata": {
        "colab": {
          "base_uri": "https://localhost:8080/"
        },
        "id": "RWcZrT8hrh-6",
        "outputId": "630f715c-04c7-43a7-8452-5c93f60cb312"
      },
      "source": [
        "google_embeddings = '/content/drive/My Drive/Sussex AI/Spring Semester/Advanced NLP/GoogleNews-vectors-negative300.bin'\n",
        "holmes_embeddings = '/content/drive/My Drive/Sussex AI/Spring Semester/Advanced NLP/holmes_model.bin'\n",
        "\n",
        "print(\"Loading pretrained embeddings\")\n",
        "# Load pretrained word embeddings\n",
        "model_google_news = KeyedVectors.load_word2vec_format(google_embeddings, binary=True)\n",
        "model_holmes = KeyedVectors.load(holmes_embeddings)\n",
        "# Normalize holmes embeddings\n",
        "model_holmes.init_sims(replace=True)"
      ],
      "execution_count": null,
      "outputs": [
        {
          "output_type": "stream",
          "text": [
            "Loading pretrained embeddings\n"
          ],
          "name": "stdout"
        }
      ]
    },
    {
      "cell_type": "code",
      "metadata": {
        "id": "DknzPRLEE0-L"
      },
      "source": [
        "def get_embeddings(tokens, google_embeddings, holmes_embeddings, google_emb=True, holmes_emb=False):\n",
        "  \"\"\"\n",
        "  Get the selected embedding for each token in the sentence\n",
        "  \"\"\"\n",
        "  dim = google_embeddings['woman'].size\n",
        "  word_vec = []\n",
        "  for word in tokens:\n",
        "    if google_emb and word in google_embeddings:\n",
        "      word_vec.append(google_embeddings[word])\n",
        "\n",
        "    elif holmes_emb and word in holmes_embeddings:\n",
        "      word_vec.append(holmes_embeddings[word])\n",
        "\n",
        "    else:\n",
        "      word_vec.append(np.random.uniform(-1,1,dim))\n",
        "\n",
        "  return word_vec\n",
        "\n",
        "def total_similarity(vec, ques_vec):\n",
        "  \"\"\"\n",
        "  Compute the total similarity\n",
        "  \"\"\"\n",
        "  score = 0\n",
        "  for v in ques_vec:\n",
        "    cosine_similarity = 1 - spatial.distance.cosine(vec, v)\n",
        "\n",
        "    score += cosine_similarity\n",
        "\n",
        "  return score\n",
        "\n",
        "def total_similarity_average(candidate, vectors):\n",
        "  \"\"\"\n",
        "  Compute the average total similarity\n",
        "  \"\"\"\n",
        "  sum_embeddings = 0\n",
        "  for vect in vectors:\n",
        "    sum_embeddings += vect\n",
        "\n",
        "  average_sentence_embedding = sum_embeddings / len(vectors)\n",
        "  \n",
        "  score = 1 - spatial.distance.cosine(average_sentence_embedding, candidate)\n",
        "\n",
        "  return score"
      ],
      "execution_count": null,
      "outputs": []
    },
    {
      "cell_type": "code",
      "metadata": {
        "id": "phKEUvllHqxw"
      },
      "source": [
        "def word2vec_predictions(embedding1, embedding2, google, holmes,\n",
        "                         average_similarity=False):\n",
        "  \"\"\"\n",
        "  Get predictions, accuracy, and scores of the options \n",
        "  \"\"\"\n",
        "\n",
        "  total_scores = []\n",
        "  with open(answers_file) as instream:\n",
        "    csvreader = csv.reader(instream)\n",
        "    lines = list(csvreader)\n",
        "\n",
        "  qs_df = pd.DataFrame(lines[1:],columns=lines[0])\n",
        "  answers = np.array(qs_df['answer'])\n",
        "\n",
        "  keys = ['a)', 'b)', 'c)', 'd)', 'e)']\n",
        "  choices = ['a', 'b', 'c', 'd', 'e']\n",
        "  predictions = []\n",
        "\n",
        "  print(\"Predicting answers\")\n",
        "\n",
        "  with open(questions_file) as qf:\n",
        "    csvreader = csv.reader(qf)\n",
        "    lines = list(csvreader)\n",
        "\n",
        "  qs_df = pd.DataFrame(lines[1:],columns=lines[0])\n",
        "  questions = list(qs_df['question'])\n",
        "\n",
        "  for i,question in enumerate(questions):\n",
        "    tokens = tokenize(question)\n",
        "    # Get question embeddings\n",
        "    ques_vec = get_embeddings(tokens, embedding1, embedding2, google, holmes)\n",
        "\n",
        "    scores = []\n",
        "    candidates = [qs_df[x][i] for x in keys]\n",
        "\n",
        "    # Get candidate word embeddings\n",
        "    cand_vec = get_embeddings(candidates, embedding1, embedding2, google, holmes)\n",
        "\n",
        "    # Calculate total word similarity\n",
        "    for word in cand_vec:\n",
        "      if not average_similarity:\n",
        "        s = total_similarity(word, ques_vec)\n",
        "      else:\n",
        "        s = total_similarity_average(word, ques_vec)    \n",
        "\n",
        "      scores.append(s)\n",
        "    \n",
        "    idx = scores.index(max(scores))\n",
        "    ans = choices[idx]\n",
        "    predictions.append(ans)\n",
        "\n",
        "    total_scores.append(scores)\n",
        "\n",
        "    accuracy = np.sum(predictions == np.array(answers)) / len(predictions) * 100\n",
        "\n",
        "  return np.array(predictions), accuracy, total_scores"
      ],
      "execution_count": null,
      "outputs": []
    },
    {
      "cell_type": "markdown",
      "metadata": {
        "id": "fDD4FhaiLMoQ"
      },
      "source": [
        "Tune hyperparameters"
      ]
    },
    {
      "cell_type": "code",
      "metadata": {
        "colab": {
          "base_uri": "https://localhost:8080/"
        },
        "id": "VpkmQK4cLMS2",
        "outputId": "af0c32ec-fd63-4042-e375-3545d58bda30"
      },
      "source": [
        "results = []\n",
        "pred_scores = []\n",
        "google = [False, True]\n",
        "holmes = [False, True]\n",
        "avt = [False, True]\n",
        "word2vec_scores = []\n",
        "for g in google:\n",
        "  for h in holmes:\n",
        "    if not g and not h:\n",
        "      continue\n",
        "    for sim in avt:\n",
        "      print('Google', g, 'Holmes', h, 'Sim', sim)\n",
        "      predictions, accuracy, scores = word2vec_predictions(model_google_news, model_holmes, g, h, sim)\n",
        "      results.append((g, h, sim, accuracy))\n",
        "      pred_scores.append((predictions, scores))"
      ],
      "execution_count": null,
      "outputs": [
        {
          "output_type": "stream",
          "text": [
            "Google False Holmes True Sim False\n",
            "Predicting answers\n"
          ],
          "name": "stdout"
        },
        {
          "output_type": "stream",
          "text": [
            "/usr/local/lib/python3.7/dist-packages/ipykernel_launcher.py:51: FutureWarning: elementwise comparison failed; returning scalar instead, but in the future will perform elementwise comparison\n"
          ],
          "name": "stderr"
        },
        {
          "output_type": "stream",
          "text": [
            "Google False Holmes True Sim True\n",
            "Predicting answers\n",
            "Google True Holmes False Sim False\n",
            "Predicting answers\n",
            "Google True Holmes False Sim True\n",
            "Predicting answers\n",
            "Google True Holmes True Sim False\n",
            "Predicting answers\n",
            "Google True Holmes True Sim True\n",
            "Predicting answers\n"
          ],
          "name": "stdout"
        }
      ]
    },
    {
      "cell_type": "code",
      "metadata": {
        "colab": {
          "base_uri": "https://localhost:8080/",
          "height": 225
        },
        "id": "6cLoKzuLfe7q",
        "outputId": "4c6290ec-5c34-43fd-c543-2cd210398995"
      },
      "source": [
        "cols = ['Google embeddings', 'Holmes embeddings', 'Average total similarity', 'Word2Vec accuracy']\n",
        "values = results\n",
        "df = pd.DataFrame(values, columns=cols)\n",
        "display(df) "
      ],
      "execution_count": null,
      "outputs": [
        {
          "output_type": "display_data",
          "data": {
            "text/html": [
              "<div>\n",
              "<style scoped>\n",
              "    .dataframe tbody tr th:only-of-type {\n",
              "        vertical-align: middle;\n",
              "    }\n",
              "\n",
              "    .dataframe tbody tr th {\n",
              "        vertical-align: top;\n",
              "    }\n",
              "\n",
              "    .dataframe thead th {\n",
              "        text-align: right;\n",
              "    }\n",
              "</style>\n",
              "<table border=\"1\" class=\"dataframe\">\n",
              "  <thead>\n",
              "    <tr style=\"text-align: right;\">\n",
              "      <th></th>\n",
              "      <th>Google embeddings</th>\n",
              "      <th>Holmes embeddings</th>\n",
              "      <th>Average total similarity</th>\n",
              "      <th>Word2Vec accuracy</th>\n",
              "    </tr>\n",
              "  </thead>\n",
              "  <tbody>\n",
              "    <tr>\n",
              "      <th>0</th>\n",
              "      <td>False</td>\n",
              "      <td>True</td>\n",
              "      <td>False</td>\n",
              "      <td>36.826923</td>\n",
              "    </tr>\n",
              "    <tr>\n",
              "      <th>1</th>\n",
              "      <td>False</td>\n",
              "      <td>True</td>\n",
              "      <td>True</td>\n",
              "      <td>33.461538</td>\n",
              "    </tr>\n",
              "    <tr>\n",
              "      <th>2</th>\n",
              "      <td>True</td>\n",
              "      <td>False</td>\n",
              "      <td>False</td>\n",
              "      <td>34.038462</td>\n",
              "    </tr>\n",
              "    <tr>\n",
              "      <th>3</th>\n",
              "      <td>True</td>\n",
              "      <td>False</td>\n",
              "      <td>True</td>\n",
              "      <td>28.750000</td>\n",
              "    </tr>\n",
              "    <tr>\n",
              "      <th>4</th>\n",
              "      <td>True</td>\n",
              "      <td>True</td>\n",
              "      <td>False</td>\n",
              "      <td>33.076923</td>\n",
              "    </tr>\n",
              "    <tr>\n",
              "      <th>5</th>\n",
              "      <td>True</td>\n",
              "      <td>True</td>\n",
              "      <td>True</td>\n",
              "      <td>35.961538</td>\n",
              "    </tr>\n",
              "  </tbody>\n",
              "</table>\n",
              "</div>"
            ],
            "text/plain": [
              "   Google embeddings  ...  Word2Vec accuracy\n",
              "0              False  ...          36.826923\n",
              "1              False  ...          33.461538\n",
              "2               True  ...          34.038462\n",
              "3               True  ...          28.750000\n",
              "4               True  ...          33.076923\n",
              "5               True  ...          35.961538\n",
              "\n",
              "[6 rows x 4 columns]"
            ]
          },
          "metadata": {
            "tags": []
          }
        }
      ]
    },
    {
      "cell_type": "markdown",
      "metadata": {
        "id": "_A2up0_V0EI1"
      },
      "source": [
        "Append the results to the CSV files with the ngram results"
      ]
    },
    {
      "cell_type": "code",
      "metadata": {
        "id": "EOyy2Oi9F36i"
      },
      "source": [
        "w2v_predictions, w2v_scores = pred_scores[0]\n",
        "\n",
        "# Save results in a csv file\n",
        "df = pd.read_csv(os.path.join(results_directory, 'SCC_results.csv'), delimiter=',')\n",
        "# this line creates a new column, which is a Pandas series.\n",
        "df['answer Word2Vec'] = w2v_predictions\n",
        "df['scores Word2Vec'] = w2v_scores\n",
        "\n",
        "# save the dataframe to CSV\n",
        "df.to_csv(os.path.join(results_directory, 'SCC_results.csv'), sep=',', index=False)"
      ],
      "execution_count": null,
      "outputs": []
    },
    {
      "cell_type": "markdown",
      "metadata": {
        "id": "7MlttUhHmyqr"
      },
      "source": [
        "# Compare results: Ngram vs. Word2Vec"
      ]
    },
    {
      "cell_type": "code",
      "metadata": {
        "id": "yND-1PqW8cNg"
      },
      "source": [
        "df = pd.read_csv(os.path.join(results_directory, 'SCC_results.csv'), delimiter=',')"
      ],
      "execution_count": null,
      "outputs": []
    },
    {
      "cell_type": "code",
      "metadata": {
        "id": "XhnngKEuV_n3"
      },
      "source": [
        "predictions_uni, predictions_bi, predictions_tri, predictions_w2v = df['answer unigram'], df['answer bigram'], df['answer trigram'], df['answer Word2Vec']\n",
        "scores_uni, scores_bi, scores_tri, scores_w2v = df['probs unigram'], df['probs bigram'], df['probs trigram'], df['scores Word2Vec']"
      ],
      "execution_count": null,
      "outputs": []
    },
    {
      "cell_type": "code",
      "metadata": {
        "id": "qWtXhB0GUbkk"
      },
      "source": [
        "def get_accuracy(predicts):\n",
        "  \"\"\"\n",
        "  Get accuracy for a set of predictions\n",
        "  \"\"\"\n",
        "  with open(answers_file) as instream:\n",
        "    csvreader = csv.reader(instream)\n",
        "    lines = list(csvreader)\n",
        "\n",
        "  ans_df = pd.DataFrame(lines[1:],columns=lines[0])\n",
        "  answers = np.array(ans_df['answer'])\n",
        "\n",
        "  return np.sum(predicts == answers) / len(answers)"
      ],
      "execution_count": null,
      "outputs": []
    },
    {
      "cell_type": "code",
      "metadata": {
        "colab": {
          "base_uri": "https://localhost:8080/",
          "height": 295
        },
        "id": "Aa-WqStqUr8E",
        "outputId": "d4f3263c-b863-4bc8-bc27-1cfd7c089ea2"
      },
      "source": [
        "uni_accuracy = get_accuracy(predictions_uni)\n",
        "bi_accuracy = get_accuracy(predictions_bi)\n",
        "tri_accuracy = get_accuracy(predictions_tri)\n",
        "w2v_accuracy = get_accuracy(predictions_w2v)\n",
        "\n",
        "plt.bar(['unigram', 'bigram', 'trigram', 'Word2Vec'], [uni_accuracy, bi_accuracy, tri_accuracy, w2v_accuracy])\n",
        "plt.title('Accuracy of each model')\n",
        "plt.xlabel('model')\n",
        "plt.ylabel('accuracy')\n",
        "plt.show()"
      ],
      "execution_count": null,
      "outputs": [
        {
          "output_type": "display_data",
          "data": {
            "image/png": "[encoded data removed]",
            "text/plain": [
              "<Figure size 432x288 with 1 Axes>"
            ]
          },
          "metadata": {
            "tags": [],
            "needs_background": "light"
          }
        }
      ]
    },
    {
      "cell_type": "code",
      "metadata": {
        "id": "JCjkJIjWnUPS"
      },
      "source": [
        "def compare_predictions(predicts1, predicts2):\n",
        "  \"\"\"\n",
        "  Make comparisons between two sets of predictions\n",
        "  \"\"\"\n",
        "\n",
        "  with open(answers_file) as instream:\n",
        "    csvreader = csv.reader(instream)\n",
        "    lines = list(csvreader)\n",
        "\n",
        "  ans_df = pd.DataFrame(lines[1:],columns=lines[0])\n",
        "  answers = np.array(ans_df['answer'])\n",
        "  \n",
        "  general_comparison = np.sum(np.array(predicts1) == np.array(predicts2)) / len(predicts1) * 100\n",
        "\n",
        "  right_ans_shared = np.array([1 if answers[i] == predicts1[i] and predicts1[i] == predicts2[i] else 0 for i in range(len(predicts1))])\n",
        "  wrong_ans_shared = np.array([1 if answers[i] != predicts1[i] and predicts1[i] == predicts2[i] else 0 for i in range(len(predicts1))])\n",
        "\n",
        "  return general_comparison, np.sum(right_ans_shared) / len(predicts1) * 100, np.sum(wrong_ans_shared) / len(predicts1) * 100"
      ],
      "execution_count": null,
      "outputs": []
    },
    {
      "cell_type": "code",
      "metadata": {
        "id": "wbekzZqlH5O6"
      },
      "source": [
        "# Get shared errors between the different models\n",
        "compare_tri_uni, common_right_tri_uni, common_errors_tri_uni = compare_predictions(predictions_tri, predictions_uni)\n",
        "compare_tri_bi, common_right_tri_bi, common_errors_tri_bi = compare_predictions(predictions_tri, predictions_bi)\n",
        "compare_w2v_uni, common_right_w2v_uni, common_errors_w2v_uni = compare_predictions(predictions_w2v, predictions_uni)\n",
        "compare_w2v_bi, common_right_w2v_bi, common_errors_w2v_bi = compare_predictions(predictions_w2v, predictions_bi)\n",
        "compare_w2v_tri, common_right_w2v_tri, common_errors_w2v_tri = compare_predictions(predictions_w2v, predictions_tri)"
      ],
      "execution_count": null,
      "outputs": []
    },
    {
      "cell_type": "code",
      "metadata": {
        "colab": {
          "base_uri": "https://localhost:8080/",
          "height": 493
        },
        "id": "rSM3vZjnMQZT",
        "outputId": "2333e3bb-bc48-4d50-9802-b4df5497272e"
      },
      "source": [
        "X = ['shared answers', 'shared right answers', 'shared wrong answers']\n",
        "Y = [compare_tri_uni, compare_tri_bi, compare_w2v_uni, compare_w2v_bi, compare_w2v_tri] \n",
        "Z = [common_right_tri_uni, common_right_tri_bi, common_right_w2v_uni, common_right_w2v_bi, common_right_w2v_tri]\n",
        "T = [common_errors_tri_uni, common_errors_tri_bi, common_errors_w2v_uni, common_errors_w2v_bi, common_errors_w2v_tri]\n",
        "\n",
        "labels = ['trigram-unigram', 'trigram-bigram', 'W2V-unigram', 'W2V-bigram', 'W2V-trigram']\n",
        "\n",
        "df = pd.DataFrame((Y,Z,T), index=X, columns=labels)\n",
        "ax = df.plot(kind='bar', figsize=(8, 6))\n",
        "ax.set_ylabel('percentage (%)')\n",
        "ax.set_title('Comparison of predictions between different models')\n",
        "plt.show()"
      ],
      "execution_count": null,
      "outputs": [
        {
          "output_type": "display_data",
          "data": {
            "image/png": "[encoded data removed]",
            "text/plain": [
              "<Figure size 576x432 with 1 Axes>"
            ]
          },
          "metadata": {
            "tags": [],
            "needs_background": "light"
          }
        }
      ]
    },
    {
      "cell_type": "code",
      "metadata": {
        "id": "njatfiNDruJA"
      },
      "source": [
        "def analyze_errors(predicts, scores, model='ngram'):\n",
        "  \"\"\"\n",
        "  Get error inidices and the uncertainty of the correct answer when a wrong\n",
        "  option has been predicted\n",
        "  \"\"\"\n",
        "  keys = ['a', 'b', 'c', 'd', 'e']\n",
        "  with open(answers_file) as instream:\n",
        "    csvreader = csv.reader(instream)\n",
        "    lines = list(csvreader)\n",
        "\n",
        "  ans_df = pd.DataFrame(lines[1:],columns=lines[0])\n",
        "  answers = np.array(ans_df['answer'])\n",
        "\n",
        "  errors = []\n",
        "  uncertainty_correct_ans = []\n",
        "  for i in range(len(predicts)):\n",
        "    if answers[i] != predicts[i]:\n",
        "      errors.append(i)\n",
        "      ind_correct = keys.index(answers[i])\n",
        "      # Get the uncertatinty of the correct answer\n",
        "      if model == 'ngram':\n",
        "        uncertainty_correct_ans.append(-np.log2(normalize_probs(scores[i])[ind_correct]))\n",
        "\n",
        "      else:\n",
        "        uncertainty_correct_ans.append(-np.log2(normalize_scores(scores[i])[ind_correct]))\n",
        "\n",
        "  return uncertainty_correct_ans, errors"
      ],
      "execution_count": null,
      "outputs": []
    },
    {
      "cell_type": "code",
      "metadata": {
        "id": "pG5tSMh4871F"
      },
      "source": [
        "def normalize_scores(scores):\n",
        "  \"\"\"\n",
        "  Normalize scores obtained from cosine similarity\n",
        "  \"\"\"\n",
        "  scores = ast.literal_eval(scores)\n",
        "  norm_scores = np.array(scores) + abs(min(scores)) + 1\n",
        "\n",
        "  return norm_scores / np.sum(norm_scores)"
      ],
      "execution_count": null,
      "outputs": []
    },
    {
      "cell_type": "code",
      "metadata": {
        "id": "ooLFi-6N88Pg"
      },
      "source": [
        "def normalize_probs(probs):\n",
        "  \"\"\"\n",
        "  Normalize probabilities obtained from an ngram model\n",
        "  \"\"\"\n",
        "  probs = ast.literal_eval(probs)\n",
        "  prob_factor = 1 / sum(probs)\n",
        "\n",
        "  return [prob_factor * p for p in probs]"
      ],
      "execution_count": null,
      "outputs": []
    },
    {
      "cell_type": "code",
      "metadata": {
        "id": "QM9slPIe8-uM"
      },
      "source": [
        "def entropy(probs):\n",
        "  \"\"\"\n",
        "  Compute entropy of a given probability distribution\n",
        "  \"\"\"\n",
        "  return np.sum(-np.log2(probs) * probs)"
      ],
      "execution_count": null,
      "outputs": []
    },
    {
      "cell_type": "code",
      "metadata": {
        "id": "6mSnkLKZ853O"
      },
      "source": [
        "# Get uncertainties for the correct answer when an impostor has been chosen\n",
        "uncer_uni, errors_uni = analyze_errors(predictions_uni, scores_uni, 'ngram')\n",
        "uncer_bi, errors_bi = analyze_errors(predictions_bi, scores_bi, 'ngram')\n",
        "uncer_tri, errors_tri = analyze_errors(predictions_tri, scores_tri, 'ngram')\n",
        "uncer_w2v, errors_w2v = analyze_errors(predictions_w2v, scores_w2v, 'w2v')"
      ],
      "execution_count": null,
      "outputs": []
    },
    {
      "cell_type": "code",
      "metadata": {
        "id": "JREVuhT7Ch2P"
      },
      "source": [
        "# Compute average uncertainty for each model\n",
        "av_uncer_uni = np.mean(uncer_uni)\n",
        "av_uncer_bi = np.mean(uncer_bi)\n",
        "av_uncer_tri = np.mean(uncer_tri)\n",
        "av_uncer_w2v = np.mean(uncer_w2v)"
      ],
      "execution_count": null,
      "outputs": []
    },
    {
      "cell_type": "code",
      "metadata": {
        "colab": {
          "base_uri": "https://localhost:8080/",
          "height": 310
        },
        "id": "uEs-yf1TBz_H",
        "outputId": "7d3224ff-d78c-40ec-9acc-214cc7d2080a"
      },
      "source": [
        "plt.bar(['unigram', 'bigram', 'trigram', 'Word2Vec'], [av_uncer_uni, av_uncer_bi, av_uncer_tri, av_uncer_w2v])\n",
        "plt.title('Average uncertainty of selecting the correct answer \\nwhen an impostor has been chosen')\n",
        "plt.xlabel('Model')\n",
        "plt.ylabel('Uncertainty (bits)')\n",
        "#plt.ylim(0, baseline_entropy)\n",
        "#plt.yticks(np.arange(0, baseline_entropy, 0.2))\n",
        "plt.show()"
      ],
      "execution_count": null,
      "outputs": [
        {
          "output_type": "display_data",
          "data": {
            "image/png": "[encoded data removed]",
            "text/plain": [
              "<Figure size 432x288 with 1 Axes>"
            ]
          },
          "metadata": {
            "tags": [],
            "needs_background": "light"
          }
        }
      ]
    },
    {
      "cell_type": "markdown",
      "metadata": {
        "id": "C-kle0x1LIgB"
      },
      "source": [
        "Examine random questions where certain model fails"
      ]
    },
    {
      "cell_type": "code",
      "metadata": {
        "id": "BQGuvcn1LYoi"
      },
      "source": [
        "with open(questions_file) as instream:\n",
        "  csvreader = csv.reader(instream)\n",
        "  lines = list(csvreader)\n",
        "\n",
        "qs_df = pd.DataFrame(lines[1:],columns=lines[0])\n",
        "\n",
        "with open(answers_file) as instream:\n",
        "  csvreader = csv.reader(instream)\n",
        "  lines = list(csvreader)\n",
        "\n",
        "ans_df = pd.DataFrame(lines[1:],columns=lines[0])"
      ],
      "execution_count": null,
      "outputs": []
    },
    {
      "cell_type": "code",
      "metadata": {
        "colab": {
          "base_uri": "https://localhost:8080/"
        },
        "id": "oBrlf4LK-SIY",
        "outputId": "f689f317-3254-41ea-d22d-49e830847bdf"
      },
      "source": [
        "# Select a random question that the model has failed\n",
        "random_wrong = np.random.choice(errors_tri)\n",
        "question = qs_df.loc[random_wrong, 'question']\n",
        "answers = list(qs_df.iloc[random_wrong, 2:7].items())\n",
        "print('Question:', question)\n",
        "print('\\n',answers)\n",
        "print('***')\n",
        "print('Correct:', ans_df.iloc[random_wrong, 1])\n",
        "print('Incorrect trigram:', predictions_tri[random_wrong])\n",
        "print('Incorrect W2V:', predictions_w2v[random_wrong])"
      ],
      "execution_count": null,
      "outputs": [
        {
          "output_type": "stream",
          "text": [
            "Question: His face set hard , and a baleful light _____ up in his grey eyes.\n",
            "\n",
            " [('a)', 'tiptoed'), ('b)', 'wrapped'), ('c)', 'sprang'), ('d)', 'smiled'), ('e)', 'pursed')]\n",
            "***\n",
            "Correct: c\n",
            "Incorrect trigram: b\n",
            "Incorrect W2V: b\n"
          ],
          "name": "stdout"
        }
      ]
    },
    {
      "cell_type": "markdown",
      "metadata": {
        "id": "nPPIvSwjLa1M"
      },
      "source": [
        "Check whether the errors are due to the length of the questions"
      ]
    },
    {
      "cell_type": "code",
      "metadata": {
        "id": "g_DTKzYgDmsE"
      },
      "source": [
        "len_errors_uni = np.mean([len(qs_df.loc[error, 'question'].split()) for error in errors_uni])\n",
        "len_errors_bi = np.mean([len(qs_df.loc[error, 'question'].split()) for error in errors_bi])\n",
        "len_errors_tri = np.mean([len(qs_df.loc[error, 'question'].split()) for error in errors_tri])\n",
        "len_errors_w2v = np.mean([len(qs_df.loc[error, 'question'].split()) for error in errors_w2v])"
      ],
      "execution_count": null,
      "outputs": []
    },
    {
      "cell_type": "code",
      "metadata": {
        "id": "WVl6eRRsFQlI"
      },
      "source": [
        "len_correct_uni = np.mean([len(qs_df.loc[i, 'question'].split()) for i in range(len(predictions_uni)) if i not in errors_uni])\n",
        "len_correct_bi = np.mean([len(qs_df.loc[i, 'question'].split()) for i in range(len(predictions_uni)) if i not in errors_bi])\n",
        "len_correct_tri = np.mean([len(qs_df.loc[i, 'question'].split()) for i in range(len(predictions_uni)) if i not in errors_tri])\n",
        "len_correct_w2v = np.mean([len(qs_df.loc[i, 'question'].split()) for i in range(len(predictions_uni)) if i not in errors_w2v])"
      ],
      "execution_count": null,
      "outputs": []
    },
    {
      "cell_type": "code",
      "metadata": {
        "colab": {
          "base_uri": "https://localhost:8080/",
          "height": 424
        },
        "id": "Auz_m2fiELiA",
        "outputId": "84fc8cae-ce1e-4f67-b806-13d42f6f23d8"
      },
      "source": [
        "labels = ['unigram', 'bigram', 'trigram', 'W2V']\n",
        "X = ['correct', 'incorrect']\n",
        "\n",
        "Y = [len_errors_uni, len_errors_bi, len_errors_tri, len_errors_w2v] \n",
        "Z = [len_correct_uni, len_correct_bi, len_correct_tri, len_correct_w2v]\n",
        "\n",
        "df = pd.DataFrame((Y,Z), index=X, columns=labels)\n",
        "ax = df.plot(kind='bar', figsize=(8, 6))\n",
        "ax.set_ylabel('number of tokens')\n",
        "ax.set_title('Average sentence length for right and wrong predictions')\n",
        "plt.show()"
      ],
      "execution_count": null,
      "outputs": [
        {
          "output_type": "display_data",
          "data": {
            "image/png": "[encoded data removed]",
            "text/plain": [
              "<Figure size 576x432 with 1 Axes>"
            ]
          },
          "metadata": {
            "tags": [],
            "needs_background": "light"
          }
        }
      ]
    },
    {
      "cell_type": "markdown",
      "metadata": {
        "id": "-Ibvb86K7Dpe"
      },
      "source": [
        "Entropy baseline (i.e., random answer is chosen)"
      ]
    },
    {
      "cell_type": "code",
      "metadata": {
        "colab": {
          "base_uri": "https://localhost:8080/"
        },
        "id": "ROq1skPp3tIK",
        "outputId": "1349f71a-14c2-4e5a-89b0-0f182f790dd2"
      },
      "source": [
        "# Since there are 5 options, the maximum entropy (i.e., random answer) will be\n",
        "# when the same probability is assigned to each option (i.e., uniform distribution)\n",
        "baseline_entropy = entropy(np.full(5, 1/5))\n",
        "print('Entropy baseline for random answer is {}.'.format(baseline_entropy))"
      ],
      "execution_count": null,
      "outputs": [
        {
          "output_type": "stream",
          "text": [
            "Entropy baseline for random answer is 2.321928094887362.\n"
          ],
          "name": "stdout"
        }
      ]
    },
    {
      "cell_type": "code",
      "metadata": {
        "id": "JYnUO6gJ7igp"
      },
      "source": [
        "# Get average entropy for each model\n",
        "uni_av_entropy = []\n",
        "bi_av_entropy = []\n",
        "tri_av_entropy = []\n",
        "w2v_av_entropy = []\n",
        "\n",
        "for i in range(len(scores_uni)):\n",
        "  uni_av_entropy.append(entropy(normalize_probs(scores_uni[i])))\n",
        "  bi_av_entropy.append(entropy(normalize_probs(scores_bi[i])))\n",
        "  tri_av_entropy.append(entropy(normalize_probs(scores_tri[i])))\n",
        "  w2v_av_entropy.append(entropy(normalize_scores(scores_w2v[i])))\n",
        "\n",
        "# Get entropy average for each model\n",
        "uni_av_entropy = np.mean(uni_av_entropy)\n",
        "bi_av_entropy = np.mean(bi_av_entropy)\n",
        "tri_av_entropy = np.mean(tri_av_entropy)\n",
        "w2v_av_entropy = np.mean(w2v_av_entropy)"
      ],
      "execution_count": null,
      "outputs": []
    },
    {
      "cell_type": "markdown",
      "metadata": {
        "id": "tRkhO4y0Lhvg"
      },
      "source": [
        "Compute the average entropy of the predictions for all question in each model"
      ]
    },
    {
      "cell_type": "code",
      "metadata": {
        "colab": {
          "base_uri": "https://localhost:8080/",
          "height": 295
        },
        "id": "WDuA5FkY8Po0",
        "outputId": "adf3fba5-75ff-422a-9366-9bbeb931daee"
      },
      "source": [
        "plt.bar(['unigram', 'bigram', 'trigram', 'Word2Vec'], [uni_av_entropy, bi_av_entropy, tri_av_entropy, w2v_av_entropy])\n",
        "plt.title('Average entropy per model')\n",
        "plt.xlabel('Model')\n",
        "plt.ylabel('Entropy (bits)')\n",
        "#plt.ylim(0, baseline_entropy)\n",
        "plt.yticks(np.arange(0, baseline_entropy, 0.2))\n",
        "plt.show()"
      ],
      "execution_count": null,
      "outputs": [
        {
          "output_type": "display_data",
          "data": {
            "image/png": "[encoded data removed]",
            "text/plain": [
              "<Figure size 432x288 with 1 Axes>"
            ]
          },
          "metadata": {
            "tags": [],
            "needs_background": "light"
          }
        }
      ]
    }
  ]
}